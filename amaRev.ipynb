{
 "cells": [
  {
   "cell_type": "markdown",
   "metadata": {},
   "source": [
    "## Sentiment Analysis of Amazon Reviews Using Ensemble Method\n",
    "\n",
    "### Project Overview\n",
    "In this project, we'll classify the sentiments of Amazon reviews. We'll use NLP preprocessing and TF-IDF to extract features and then create a VotingClassifier ensemble model to determine review sentiment\n",
    "\n",
    "Our ensemble model will help classify reviews without relying on ratings, providing insight into whether a customer is happy or not\n",
    "\n"
   ]
  },
  {
   "cell_type": "code",
   "execution_count": 1,
   "metadata": {},
   "outputs": [],
   "source": [
    "import numpy as np\n",
    "import pandas as pd\n",
    "from sklearn.manifold import TSNE\n",
    "import nltk\n",
    "from nltk.corpus import stopwords, wordnet as wn\n",
    "import re\n",
    "import matplotlib.pyplot as plt\n",
    "from bs4 import BeautifulSoup\n",
    "import string\n",
    "import seaborn as sns"
   ]
  },
  {
   "cell_type": "markdown",
   "metadata": {},
   "source": [
    "## Data Cleaning\n",
    "\n",
    "We'll start with loading our data and checking what it contains"
   ]
  },
  {
   "cell_type": "code",
   "execution_count": 2,
   "metadata": {},
   "outputs": [
    {
     "name": "stdout",
     "output_type": "stream",
     "text": [
      "Our dataset shape- (568454, 10)\n",
      "number of unique items in text column: 393579\n"
     ]
    },
    {
     "data": {
      "text/html": [
       "<div>\n",
       "<style scoped>\n",
       "    .dataframe tbody tr th:only-of-type {\n",
       "        vertical-align: middle;\n",
       "    }\n",
       "\n",
       "    .dataframe tbody tr th {\n",
       "        vertical-align: top;\n",
       "    }\n",
       "\n",
       "    .dataframe thead th {\n",
       "        text-align: right;\n",
       "    }\n",
       "</style>\n",
       "<table border=\"1\" class=\"dataframe\">\n",
       "  <thead>\n",
       "    <tr style=\"text-align: right;\">\n",
       "      <th></th>\n",
       "      <th>Id</th>\n",
       "      <th>ProductId</th>\n",
       "      <th>UserId</th>\n",
       "      <th>ProfileName</th>\n",
       "      <th>HelpfulnessNumerator</th>\n",
       "      <th>HelpfulnessDenominator</th>\n",
       "      <th>Score</th>\n",
       "      <th>Time</th>\n",
       "      <th>Summary</th>\n",
       "      <th>Text</th>\n",
       "    </tr>\n",
       "  </thead>\n",
       "  <tbody>\n",
       "    <tr>\n",
       "      <th>0</th>\n",
       "      <td>1</td>\n",
       "      <td>B001E4KFG0</td>\n",
       "      <td>A3SGXH7AUHU8GW</td>\n",
       "      <td>delmartian</td>\n",
       "      <td>1</td>\n",
       "      <td>1</td>\n",
       "      <td>5</td>\n",
       "      <td>1303862400</td>\n",
       "      <td>Good Quality Dog Food</td>\n",
       "      <td>I have bought several of the Vitality canned d...</td>\n",
       "    </tr>\n",
       "    <tr>\n",
       "      <th>1</th>\n",
       "      <td>2</td>\n",
       "      <td>B00813GRG4</td>\n",
       "      <td>A1D87F6ZCVE5NK</td>\n",
       "      <td>dll pa</td>\n",
       "      <td>0</td>\n",
       "      <td>0</td>\n",
       "      <td>1</td>\n",
       "      <td>1346976000</td>\n",
       "      <td>Not as Advertised</td>\n",
       "      <td>Product arrived labeled as Jumbo Salted Peanut...</td>\n",
       "    </tr>\n",
       "    <tr>\n",
       "      <th>2</th>\n",
       "      <td>3</td>\n",
       "      <td>B000LQOCH0</td>\n",
       "      <td>ABXLMWJIXXAIN</td>\n",
       "      <td>Natalia Corres \"Natalia Corres\"</td>\n",
       "      <td>1</td>\n",
       "      <td>1</td>\n",
       "      <td>4</td>\n",
       "      <td>1219017600</td>\n",
       "      <td>\"Delight\" says it all</td>\n",
       "      <td>This is a confection that has been around a fe...</td>\n",
       "    </tr>\n",
       "    <tr>\n",
       "      <th>3</th>\n",
       "      <td>4</td>\n",
       "      <td>B000UA0QIQ</td>\n",
       "      <td>A395BORC6FGVXV</td>\n",
       "      <td>Karl</td>\n",
       "      <td>3</td>\n",
       "      <td>3</td>\n",
       "      <td>2</td>\n",
       "      <td>1307923200</td>\n",
       "      <td>Cough Medicine</td>\n",
       "      <td>If you are looking for the secret ingredient i...</td>\n",
       "    </tr>\n",
       "    <tr>\n",
       "      <th>4</th>\n",
       "      <td>5</td>\n",
       "      <td>B006K2ZZ7K</td>\n",
       "      <td>A1UQRSCLF8GW1T</td>\n",
       "      <td>Michael D. Bigham \"M. Wassir\"</td>\n",
       "      <td>0</td>\n",
       "      <td>0</td>\n",
       "      <td>5</td>\n",
       "      <td>1350777600</td>\n",
       "      <td>Great taffy</td>\n",
       "      <td>Great taffy at a great price.  There was a wid...</td>\n",
       "    </tr>\n",
       "  </tbody>\n",
       "</table>\n",
       "</div>"
      ],
      "text/plain": [
       "   Id   ProductId          UserId                      ProfileName  \\\n",
       "0   1  B001E4KFG0  A3SGXH7AUHU8GW                       delmartian   \n",
       "1   2  B00813GRG4  A1D87F6ZCVE5NK                           dll pa   \n",
       "2   3  B000LQOCH0   ABXLMWJIXXAIN  Natalia Corres \"Natalia Corres\"   \n",
       "3   4  B000UA0QIQ  A395BORC6FGVXV                             Karl   \n",
       "4   5  B006K2ZZ7K  A1UQRSCLF8GW1T    Michael D. Bigham \"M. Wassir\"   \n",
       "\n",
       "   HelpfulnessNumerator  HelpfulnessDenominator  Score        Time  \\\n",
       "0                     1                       1      5  1303862400   \n",
       "1                     0                       0      1  1346976000   \n",
       "2                     1                       1      4  1219017600   \n",
       "3                     3                       3      2  1307923200   \n",
       "4                     0                       0      5  1350777600   \n",
       "\n",
       "                 Summary                                               Text  \n",
       "0  Good Quality Dog Food  I have bought several of the Vitality canned d...  \n",
       "1      Not as Advertised  Product arrived labeled as Jumbo Salted Peanut...  \n",
       "2  \"Delight\" says it all  This is a confection that has been around a fe...  \n",
       "3         Cough Medicine  If you are looking for the secret ingredient i...  \n",
       "4            Great taffy  Great taffy at a great price.  There was a wid...  "
      ]
     },
     "execution_count": 2,
     "metadata": {},
     "output_type": "execute_result"
    }
   ],
   "source": [
    "df = pd.read_csv('Reviews.csv')\n",
    "\n",
    "#checks how many rows vs columns we have\n",
    "print(f\"Our dataset shape- {df.shape}\")\n",
    "\n",
    "#checking if they are all unique\n",
    "print(f\"number of unique items in text column: {df['Text'].nunique()}\")\n",
    "\n",
    "#head() prints the very first 5 rows of each of our columns\n",
    "#we only really need Score and Text columns\n",
    "df.head()"
   ]
  },
  {
   "cell_type": "markdown",
   "metadata": {},
   "source": [
    "## Initial Thoughts\n",
    "- For our analysis, the only columns we really need are Text and Score\n",
    "- Since our goal is sentiment analysis, information like UserId and ProductId isn't as useful\n",
    "- While the Summary section *might* be beneficial with some additional weighting methodology, I'll focus on the basics for now\n",
    "\n",
    "### Addressing data shape vs uniqe number of items in text column\n",
    "\n",
    "- Our shape is 568,454 rows, and 10 columns\n",
    "- The number 393579 for unique text items above suggests that we have some duplicates in our text column in csv\n",
    "\n",
    "Let's do a thorough check and then get rid of duplicates"
   ]
  },
  {
   "cell_type": "code",
   "execution_count": 3,
   "metadata": {},
   "outputs": [
    {
     "name": "stdout",
     "output_type": "stream",
     "text": [
      "all items in the text column are unique\n",
      "Dataset shape- (393579, 2)\n",
      "Score value count: \n",
      "Score\n",
      "5    250716\n",
      "4     56042\n",
      "1     36275\n",
      "3     29754\n",
      "2     20792\n",
      "Name: count, dtype: int64\n"
     ]
    }
   ],
   "source": [
    "#create a dataframe containing only the text and score columns\n",
    "dropped_columns = ['Summary','HelpfulnessNumerator','HelpfulnessDenominator','Id','ProductId','UserId','ProfileName','Time']\n",
    "#drop all the columns that are not necessary\n",
    "df = df.drop(dropped_columns, axis =1)\n",
    "\n",
    "\n",
    "#remove duplicate values from the text column\n",
    "df = df.drop_duplicates(subset='Text')\n",
    "\n",
    "#get the number of unique items we have in our text column\n",
    "num_unique = df['Text'].nunique()\n",
    "\n",
    "#get the total number of items we have in text column\n",
    "total_items = len(df['Text'])\n",
    "\n",
    "#run a quick check for duplicates\n",
    "if num_unique == total_items:\n",
    "    print(\"all items in the text column are unique\")\n",
    "else:\n",
    "    print(\"there are duplicates text column\")\n",
    "\n",
    "print(f\"Dataset shape- {df.shape}\")\n",
    "\n",
    "#check for empty values within the dataframe\n",
    "df.isnull().sum()\n",
    "\n",
    "#check our dataset's score distribution\n",
    "print(f\"Score value count: \\n{df['Score'].value_counts()}\")"
   ]
  },
  {
   "cell_type": "markdown",
   "metadata": {},
   "source": [
    "## Distribution of our classification\n",
    "- Positive: 4 and 5 star reviews\n",
    "- Neutral: 3 star reviews\n",
    "- Negative: 1 and 2 star reviews\n",
    "\n",
    "\n",
    "According to our value counts above - We have far more positive reviews than negative, need to balance our classes to prevent overfitting\n",
    "\n",
    "Let's run a quick visualization on how the distribution looks like:"
   ]
  },
  {
   "cell_type": "code",
   "execution_count": 4,
   "metadata": {},
   "outputs": [
    {
     "data": {
      "image/png": "[encoded data removed]",
      "text/plain": [
       "<Figure size 640x480 with 1 Axes>"
      ]
     },
     "metadata": {},
     "output_type": "display_data"
    }
   ],
   "source": [
    "#creating a simple bar graph\n",
    "df['Score'].value_counts().plot.bar(color='skyblue')\n",
    "plt.title('Count vs Score distribution')\n",
    "plt.xlabel('Score')\n",
    "plt.ylabel('Count')\n",
    "plt.xticks(rotation=0)\n",
    "plt.show()"
   ]
  },
  {
   "cell_type": "markdown",
   "metadata": {},
   "source": [
    "## Method to balance out our dataset\n",
    "\n",
    "The idea is to end up with equal number of positive and negative reviews, while considering the difference between 1 star reviews and 2 star reviews\n",
    "\n",
    "- Let's start with calculating the overall number of negative reviews we have\n",
    "\n",
    "  **number of 1&2 star reviews** = 36,275 + 20792 = **57,067**\n",
    "\n",
    "- Now let's calculate the amount of positive reviews we have\n",
    "\n",
    "  **number of 4&5 star reviews** = 250,716 + 56,042 = **306,758**\n",
    "\n",
    "### To Prevent Overfitting\n",
    "\n",
    "- We'll balance the number of 4 and 5 star reviews with 1 and 2 star reviews by randomly reducing the 4 and 5 star reviews \n",
    "- To do that, we'll ensure there are more 5 star reviews than 4 star reviews by the difference between the number of 1 star and 2 star reviews\n",
    "\n",
    "\n",
    "  **number of reviews to drop for 5 star** = 250,715 - 36,275 = **214,440 reviews**\n",
    "\n",
    "  **number of reviews to drop for 4 star** = 56,042 - 20792 = **35,250 reviews**\n",
    "\n",
    "This way we'll end up with **36,275** reviews for both 1 and 5 star reviews and **20,792** reviews for 2 and 4 star reviews\n"
   ]
  },
  {
   "cell_type": "code",
   "execution_count": 5,
   "metadata": {},
   "outputs": [
    {
     "name": "stdout",
     "output_type": "stream",
     "text": [
      "[250716, 56042, 36275, 29754, 20792]\n",
      "Score value count: \n",
      "Score\n",
      "1    36275\n",
      "5    36275\n",
      "2    20792\n",
      "4    20792\n",
      "Name: count, dtype: int64\n"
     ]
    }
   ],
   "source": [
    "#get numerical value of each score and store in a list, the order is based on highest to lowest(5, 4, 1, 3, 2)\n",
    "score_counts = df['Score'].value_counts().tolist()\n",
    "\n",
    "print(score_counts)\n",
    "\n",
    "#drop anything that has score 3, I found neutral doesn't tell us much\n",
    "df = df[df['Score'] != 3]\n",
    "\n",
    "#these variables will be how much we want to retrain from 5 star and 4 star reviews\n",
    "one_star_reviews = 36275 \n",
    "two_star_reviews = 20792\n",
    "num_to_drop = []\n",
    "\n",
    "#calculate how much rows we'll need to drop from scores 4 and 5\n",
    "num_to_drop.append(score_counts[0]-one_star_reviews)\n",
    "num_to_drop.append(score_counts[1]-two_star_reviews)\n",
    "\n",
    "\n",
    "#dropping reviews from 5 and 4 star at random(0 to n-1)\n",
    "for score_to_drop in range(len(num_to_drop)):\n",
    "    if num_to_drop[score_to_drop] > 0:\n",
    "        #create new dataframe from random samples for a specific score\n",
    "        excess_rows = df[df['Score'] == 5-score_to_drop].sample(n=num_to_drop[score_to_drop],random_state=42)\n",
    "        #drop the new dataframe - .index of a dataframe refers to the rows\n",
    "        df = df.drop(excess_rows.index)\n",
    "\n",
    "#print all of our values again\n",
    "print(f\"Score value count: \\n{df['Score'].value_counts()}\")\n"
   ]
  },
  {
   "cell_type": "markdown",
   "metadata": {},
   "source": [
    "Let's see how our methodology affected our dataset"
   ]
  },
  {
   "cell_type": "code",
   "execution_count": 6,
   "metadata": {},
   "outputs": [
    {
     "data": {
      "image/png": "[encoded data removed]",
      "text/plain": [
       "<Figure size 640x480 with 1 Axes>"
      ]
     },
     "metadata": {},
     "output_type": "display_data"
    }
   ],
   "source": [
    "#creating a bar graph once more to visualize what we did\n",
    "df['Score'].value_counts().plot.bar(color='skyblue')\n",
    "plt.title('Rating distribution')\n",
    "plt.xlabel('Rating')\n",
    "plt.ylabel('count')\n",
    "plt.xticks(rotation=0)\n",
    "plt.show()"
   ]
  },
  {
   "cell_type": "markdown",
   "metadata": {},
   "source": [
    "# NLP pre-processing\n",
    "\n",
    "Now that we have cleaned the data and balaanced out our classes, we'll prep our dataset using NLP techniques\n",
    "\n",
    "- **BeautifulSoup's HTML Parser** - Some of the reviews have HTML syntax, so we'll have to remove it\n",
    "- **Regex pattern** - Based on specific pattern(see below), remove noise from data\n",
    "- **stopwords removal** - Taking out words that are not important for sentiment analysis\n",
    "- **lowercasing** - Standardizes our entire corpus of text to represent all words in the same manner\n",
    "- **Tokenize** - Isolates our words within a sentence and results in a list of words\n",
    "- **Lemmatizing** - Standardizes our vocab further to reduce dimensionality"
   ]
  },
  {
   "cell_type": "markdown",
   "metadata": {},
   "source": [
    "## Parsing HTML from Text Column\n",
    "To clean our Text column in our dataframe we'll need to first address the HTML tags we have in some of the reviews. To do that, we'll use BeautifulSoup's HTML parser\n",
    "\n",
    "#### Using Lambda function\n",
    "`'lambda x'` is a user defined function that takes x as a parameter, and performs an action, in our case `'html.parser'`\n",
    "\n",
    "- from `df['Text']`, parse through all rows and extracts html\n",
    "- `.apply()` takes a function as an argument and applies it to each element(cell) in a specific df column\n",
    "- `.get_text()` removes all html tags, returning cleaned text"
   ]
  },
  {
   "cell_type": "code",
   "execution_count": 7,
   "metadata": {},
   "outputs": [
    {
     "name": "stderr",
     "output_type": "stream",
     "text": [
      "/tmp/ipykernel_10000/578222121.py:2: MarkupResemblesLocatorWarning: The input looks more like a filename than markup. You may want to open this file and pass the filehandle into Beautiful Soup.\n",
      "  df['Text'] = df['Text'].apply(lambda x: BeautifulSoup(x, \"html.parser\").get_text())\n"
     ]
    },
    {
     "data": {
      "text/html": [
       "<div>\n",
       "<style scoped>\n",
       "    .dataframe tbody tr th:only-of-type {\n",
       "        vertical-align: middle;\n",
       "    }\n",
       "\n",
       "    .dataframe tbody tr th {\n",
       "        vertical-align: top;\n",
       "    }\n",
       "\n",
       "    .dataframe thead th {\n",
       "        text-align: right;\n",
       "    }\n",
       "</style>\n",
       "<table border=\"1\" class=\"dataframe\">\n",
       "  <thead>\n",
       "    <tr style=\"text-align: right;\">\n",
       "      <th></th>\n",
       "      <th>Score</th>\n",
       "      <th>Text</th>\n",
       "    </tr>\n",
       "  </thead>\n",
       "  <tbody>\n",
       "    <tr>\n",
       "      <th>1</th>\n",
       "      <td>1</td>\n",
       "      <td>Product arrived labeled as Jumbo Salted Peanut...</td>\n",
       "    </tr>\n",
       "    <tr>\n",
       "      <th>3</th>\n",
       "      <td>2</td>\n",
       "      <td>If you are looking for the secret ingredient i...</td>\n",
       "    </tr>\n",
       "    <tr>\n",
       "      <th>9</th>\n",
       "      <td>5</td>\n",
       "      <td>This is a very healthy dog food. Good for thei...</td>\n",
       "    </tr>\n",
       "    <tr>\n",
       "      <th>12</th>\n",
       "      <td>1</td>\n",
       "      <td>My cats have been happily eating Felidae Plati...</td>\n",
       "    </tr>\n",
       "    <tr>\n",
       "      <th>13</th>\n",
       "      <td>4</td>\n",
       "      <td>good flavor! these came securely packed... the...</td>\n",
       "    </tr>\n",
       "  </tbody>\n",
       "</table>\n",
       "</div>"
      ],
      "text/plain": [
       "    Score                                               Text\n",
       "1       1  Product arrived labeled as Jumbo Salted Peanut...\n",
       "3       2  If you are looking for the secret ingredient i...\n",
       "9       5  This is a very healthy dog food. Good for thei...\n",
       "12      1  My cats have been happily eating Felidae Plati...\n",
       "13      4  good flavor! these came securely packed... the..."
      ]
     },
     "execution_count": 7,
     "metadata": {},
     "output_type": "execute_result"
    }
   ],
   "source": [
    "#removing HTML tags from our text\n",
    "df['Text'] = df['Text'].apply(lambda x: BeautifulSoup(x, \"html.parser\").get_text())\n",
    "\n",
    "#printing our first 5 rows of data\n",
    "df.head()"
   ]
  },
  {
   "cell_type": "markdown",
   "metadata": {},
   "source": [
    "## Define and Apply a Regex Pattern\n",
    "\n",
    "To clean the Text column, we'll use regex to remove unwanted characters. This is how we'll define our pattern:\n",
    "\n",
    "- 'r' - indicates a literal string\n",
    "- '^' - negation operator(any char that is NOT within the specified range)\n",
    "- 'A-Za-z0-9' -  matches the range of chars, uppercase letters, lowercase letters, and numbers\n",
    "- '\\s' - matches any whitespace chars(spaces,tabs, newlines)\n",
    "\n",
    "The pattern `r'[^A-Za-z0-9\\s]'` matches any character that is **not** an uppercase letter, lowercase letter, digit, or whitespace."
   ]
  },
  {
   "cell_type": "code",
   "execution_count": 8,
   "metadata": {},
   "outputs": [
    {
     "data": {
      "text/html": [
       "<div>\n",
       "<style scoped>\n",
       "    .dataframe tbody tr th:only-of-type {\n",
       "        vertical-align: middle;\n",
       "    }\n",
       "\n",
       "    .dataframe tbody tr th {\n",
       "        vertical-align: top;\n",
       "    }\n",
       "\n",
       "    .dataframe thead th {\n",
       "        text-align: right;\n",
       "    }\n",
       "</style>\n",
       "<table border=\"1\" class=\"dataframe\">\n",
       "  <thead>\n",
       "    <tr style=\"text-align: right;\">\n",
       "      <th></th>\n",
       "      <th>Score</th>\n",
       "      <th>Text</th>\n",
       "    </tr>\n",
       "  </thead>\n",
       "  <tbody>\n",
       "    <tr>\n",
       "      <th>1</th>\n",
       "      <td>1</td>\n",
       "      <td>Product arrived labeled as Jumbo Salted Peanut...</td>\n",
       "    </tr>\n",
       "    <tr>\n",
       "      <th>3</th>\n",
       "      <td>2</td>\n",
       "      <td>If you are looking for the secret ingredient i...</td>\n",
       "    </tr>\n",
       "    <tr>\n",
       "      <th>9</th>\n",
       "      <td>5</td>\n",
       "      <td>This is a very healthy dog food Good for their...</td>\n",
       "    </tr>\n",
       "    <tr>\n",
       "      <th>12</th>\n",
       "      <td>1</td>\n",
       "      <td>My cats have been happily eating Felidae Plati...</td>\n",
       "    </tr>\n",
       "    <tr>\n",
       "      <th>13</th>\n",
       "      <td>4</td>\n",
       "      <td>good flavor these came securely packed they we...</td>\n",
       "    </tr>\n",
       "  </tbody>\n",
       "</table>\n",
       "</div>"
      ],
      "text/plain": [
       "    Score                                               Text\n",
       "1       1  Product arrived labeled as Jumbo Salted Peanut...\n",
       "3       2  If you are looking for the secret ingredient i...\n",
       "9       5  This is a very healthy dog food Good for their...\n",
       "12      1  My cats have been happily eating Felidae Plati...\n",
       "13      4  good flavor these came securely packed they we..."
      ]
     },
     "execution_count": 8,
     "metadata": {},
     "output_type": "execute_result"
    }
   ],
   "source": [
    "#create the pattern\n",
    "pattern = r'[^A-Za-z0-9\\s]'\n",
    "#remove anything that is NOT within the pattern(hence the '^' for negation)\n",
    "df['Text'] = df['Text'].apply(lambda x: re.sub(pattern,'',x))\n",
    "\n",
    "#from string library removes all white spaces trailing or leading to sentence\n",
    "df['Text'] = df['Text'].apply(lambda x: x.strip())\n",
    "\n",
    "df.head()"
   ]
  },
  {
   "cell_type": "markdown",
   "metadata": {},
   "source": [
    "## Lowercasing\n",
    "- Lowercasing is necessary because uppercase and lowercase letters are not equivalent for computers. While humans see Cat and cat as the same word, a computer treats them as different words. By converting all text to lowercase, we standardize the data, reducing our dimensionality and ensuring consistency within our corpus of text"
   ]
  },
  {
   "cell_type": "code",
   "execution_count": 9,
   "metadata": {},
   "outputs": [
    {
     "data": {
      "text/html": [
       "<div>\n",
       "<style scoped>\n",
       "    .dataframe tbody tr th:only-of-type {\n",
       "        vertical-align: middle;\n",
       "    }\n",
       "\n",
       "    .dataframe tbody tr th {\n",
       "        vertical-align: top;\n",
       "    }\n",
       "\n",
       "    .dataframe thead th {\n",
       "        text-align: right;\n",
       "    }\n",
       "</style>\n",
       "<table border=\"1\" class=\"dataframe\">\n",
       "  <thead>\n",
       "    <tr style=\"text-align: right;\">\n",
       "      <th></th>\n",
       "      <th>Score</th>\n",
       "      <th>Text</th>\n",
       "    </tr>\n",
       "  </thead>\n",
       "  <tbody>\n",
       "    <tr>\n",
       "      <th>1</th>\n",
       "      <td>1</td>\n",
       "      <td>product arrived labeled as jumbo salted peanut...</td>\n",
       "    </tr>\n",
       "    <tr>\n",
       "      <th>3</th>\n",
       "      <td>2</td>\n",
       "      <td>if you are looking for the secret ingredient i...</td>\n",
       "    </tr>\n",
       "    <tr>\n",
       "      <th>9</th>\n",
       "      <td>5</td>\n",
       "      <td>this is a very healthy dog food good for their...</td>\n",
       "    </tr>\n",
       "    <tr>\n",
       "      <th>12</th>\n",
       "      <td>1</td>\n",
       "      <td>my cats have been happily eating felidae plati...</td>\n",
       "    </tr>\n",
       "    <tr>\n",
       "      <th>13</th>\n",
       "      <td>4</td>\n",
       "      <td>good flavor these came securely packed they we...</td>\n",
       "    </tr>\n",
       "  </tbody>\n",
       "</table>\n",
       "</div>"
      ],
      "text/plain": [
       "    Score                                               Text\n",
       "1       1  product arrived labeled as jumbo salted peanut...\n",
       "3       2  if you are looking for the secret ingredient i...\n",
       "9       5  this is a very healthy dog food good for their...\n",
       "12      1  my cats have been happily eating felidae plati...\n",
       "13      4  good flavor these came securely packed they we..."
      ]
     },
     "execution_count": 9,
     "metadata": {},
     "output_type": "execute_result"
    }
   ],
   "source": [
    "#any uppercase char converted into lower case\n",
    "df['Text'] = df['Text'].apply(lambda x: x.lower())\n",
    "\n",
    "df.head()"
   ]
  },
  {
   "cell_type": "markdown",
   "metadata": {},
   "source": [
    "## Removing more noise such as stopwords\n",
    "Stopwords are often not as important in determining sentiment since they can appear in both negative and positive reviews. Their removal can reduce our time complexity while not significantly affecting the outcome. Given that we are using the TF-IDF method, which is a Bag of Words methodology, it is generally beneficial to remove stopwords to improve efficiency and focus on more meaningful words.\n",
    "\n",
    "However, when considering contraction stopwords like \"not\" or \"don't\", they could be crucial in understanding the sentiment. For example:\n",
    "\n",
    "- `\"i like this product\" vs \"i **don't** like this product\"`\n",
    "\n",
    "In this example \"don't\" is a stopword that changes the entire sentiment of the sentence. Therefore, it is important to retain certain stopwords in our vocabulary collection.\n",
    "\n",
    "## no_stopwords\n",
    "\n",
    "To deal with that we'll construct a variable called \"no_stopwords\" for words in the stopword list that are important for us to retain. This will be used later on after tokenizing."
   ]
  },
  {
   "cell_type": "code",
   "execution_count": 10,
   "metadata": {},
   "outputs": [],
   "source": [
    "# Download stopwords and word tokenizer\n",
    "#nltk.download('stopwords')\n",
    "#nltk.download('punkt')\n",
    "\n",
    "\n",
    "#load stopwords and store in a set which is a hashmap that has O(1) find(), this is helpful when it comes to finding whether a word is a stopword or not\n",
    "nltk_stopwords = set(stopwords.words('english'))\n",
    "\n",
    "#words that we want to keep\n",
    "no_stopwords = [\"not\",\"don't\",'aren','don','ain',\"aren't\", 'couldn', \"couldn't\", 'didn', \"didn't\", 'doesn', \"doesn't\", 'hadn', \"hadn't\", 'hasn', \"hasn't\", 'haven', \"haven't\", 'isn', \"isn't\",\n",
    "               'ma', 'mightn', \"mightn't\", 'mustn', \"mustn't\", 'needn', \"needn't\", 'shan', \"shan't\", 'shouldn', \"shouldn't\", 'wasn', \"wasn't\", 'weren', \"weren't\",\n",
    "               \"won't\", 'wouldn', \"wouldn't\"]\n",
    "\n",
    "#for each element in no_stopwords list, we remove these words from the nltk_stopwords list\n",
    "#what this does is handling contractions as they are quite important for sentiment\n",
    "for no_stopword in no_stopwords:\n",
    "    nltk_stopwords.remove(no_stopword)\n"
   ]
  },
  {
   "cell_type": "markdown",
   "metadata": {},
   "source": [
    "## Tokenizing\n",
    "\n",
    "- Tokenizing splits text into individual words or tokens. It is a very important step in text NLP pre-processing(see below). This essentially breaks down sentences/documents into smaller pieces/words for us to continue our pre-processing pipeline."
   ]
  },
  {
   "cell_type": "code",
   "execution_count": 11,
   "metadata": {},
   "outputs": [
    {
     "data": {
      "text/html": [
       "<div>\n",
       "<style scoped>\n",
       "    .dataframe tbody tr th:only-of-type {\n",
       "        vertical-align: middle;\n",
       "    }\n",
       "\n",
       "    .dataframe tbody tr th {\n",
       "        vertical-align: top;\n",
       "    }\n",
       "\n",
       "    .dataframe thead th {\n",
       "        text-align: right;\n",
       "    }\n",
       "</style>\n",
       "<table border=\"1\" class=\"dataframe\">\n",
       "  <thead>\n",
       "    <tr style=\"text-align: right;\">\n",
       "      <th></th>\n",
       "      <th>Score</th>\n",
       "      <th>Text</th>\n",
       "    </tr>\n",
       "  </thead>\n",
       "  <tbody>\n",
       "    <tr>\n",
       "      <th>1</th>\n",
       "      <td>1</td>\n",
       "      <td>[product, arrived, labeled, as, jumbo, salted,...</td>\n",
       "    </tr>\n",
       "    <tr>\n",
       "      <th>3</th>\n",
       "      <td>2</td>\n",
       "      <td>[if, you, are, looking, for, the, secret, ingr...</td>\n",
       "    </tr>\n",
       "    <tr>\n",
       "      <th>9</th>\n",
       "      <td>5</td>\n",
       "      <td>[this, is, a, very, healthy, dog, food, good, ...</td>\n",
       "    </tr>\n",
       "    <tr>\n",
       "      <th>12</th>\n",
       "      <td>1</td>\n",
       "      <td>[my, cats, have, been, happily, eating, felida...</td>\n",
       "    </tr>\n",
       "    <tr>\n",
       "      <th>13</th>\n",
       "      <td>4</td>\n",
       "      <td>[good, flavor, these, came, securely, packed, ...</td>\n",
       "    </tr>\n",
       "  </tbody>\n",
       "</table>\n",
       "</div>"
      ],
      "text/plain": [
       "    Score                                               Text\n",
       "1       1  [product, arrived, labeled, as, jumbo, salted,...\n",
       "3       2  [if, you, are, looking, for, the, secret, ingr...\n",
       "9       5  [this, is, a, very, healthy, dog, food, good, ...\n",
       "12      1  [my, cats, have, been, happily, eating, felida...\n",
       "13      4  [good, flavor, these, came, securely, packed, ..."
      ]
     },
     "execution_count": 11,
     "metadata": {},
     "output_type": "execute_result"
    }
   ],
   "source": [
    "#tokenize our words\n",
    "df['Text'] = df['Text'].apply(lambda x: nltk.word_tokenize(x))\n",
    "\n",
    "#printing first few rows to show changes in our Text column\n",
    "df.head()"
   ]
  },
  {
   "cell_type": "markdown",
   "metadata": {},
   "source": [
    "## Stopword removal\n",
    "Once we tokenize the text, we can parse through each tokenized sentence/document to remove stopwords more efficiently. Using tokenizer is essential for accurate stopword removal, without it, task would be more challenging as sentences are not broken into individual words.\n",
    "\n",
    "## lambda function\n",
    "The lambda function used here differs slightly in syntax due to the tokenization of rows in the `'Text'` column:\n",
    "- x represents each row in our dataframe, where each row contains a list of strings after tokenization(see the printed example above)\n",
    "- The function iterates over each word (`word`) in the list (`x`) and checks if it is not a stopword (`word not in nltk_stopwords`)\n",
    "- Words that are not stopwords are appended to a new list, while stopwords are filtered out (skipped) from the new list\n",
    "- This results in a list without stopwords returned for each row\n"
   ]
  },
  {
   "cell_type": "code",
   "execution_count": 12,
   "metadata": {},
   "outputs": [
    {
     "data": {
      "text/html": [
       "<div>\n",
       "<style scoped>\n",
       "    .dataframe tbody tr th:only-of-type {\n",
       "        vertical-align: middle;\n",
       "    }\n",
       "\n",
       "    .dataframe tbody tr th {\n",
       "        vertical-align: top;\n",
       "    }\n",
       "\n",
       "    .dataframe thead th {\n",
       "        text-align: right;\n",
       "    }\n",
       "</style>\n",
       "<table border=\"1\" class=\"dataframe\">\n",
       "  <thead>\n",
       "    <tr style=\"text-align: right;\">\n",
       "      <th></th>\n",
       "      <th>Score</th>\n",
       "      <th>Text</th>\n",
       "    </tr>\n",
       "  </thead>\n",
       "  <tbody>\n",
       "    <tr>\n",
       "      <th>1</th>\n",
       "      <td>1</td>\n",
       "      <td>[product, arrived, labeled, jumbo, salted, pea...</td>\n",
       "    </tr>\n",
       "    <tr>\n",
       "      <th>3</th>\n",
       "      <td>2</td>\n",
       "      <td>[looking, secret, ingredient, robitussin, beli...</td>\n",
       "    </tr>\n",
       "    <tr>\n",
       "      <th>9</th>\n",
       "      <td>5</td>\n",
       "      <td>[healthy, dog, food, good, digestion, also, go...</td>\n",
       "    </tr>\n",
       "    <tr>\n",
       "      <th>12</th>\n",
       "      <td>1</td>\n",
       "      <td>[cats, happily, eating, felidae, platinum, two...</td>\n",
       "    </tr>\n",
       "    <tr>\n",
       "      <th>13</th>\n",
       "      <td>4</td>\n",
       "      <td>[good, flavor, came, securely, packed, fresh, ...</td>\n",
       "    </tr>\n",
       "  </tbody>\n",
       "</table>\n",
       "</div>"
      ],
      "text/plain": [
       "    Score                                               Text\n",
       "1       1  [product, arrived, labeled, jumbo, salted, pea...\n",
       "3       2  [looking, secret, ingredient, robitussin, beli...\n",
       "9       5  [healthy, dog, food, good, digestion, also, go...\n",
       "12      1  [cats, happily, eating, felidae, platinum, two...\n",
       "13      4  [good, flavor, came, securely, packed, fresh, ..."
      ]
     },
     "execution_count": 12,
     "metadata": {},
     "output_type": "execute_result"
    }
   ],
   "source": [
    "#removing all the stopwords from our reviews\n",
    "df['Text'] = df['Text'].apply(lambda x: [word for word in x if word not in nltk_stopwords])\n",
    "\n",
    "#printing first few rows to show changes in our Text column\n",
    "df.head()"
   ]
  },
  {
   "cell_type": "markdown",
   "metadata": {},
   "source": [
    "## Lemmatizing\n",
    "Lemmatizing is the process of reducing a word to its base form. The purpose of lemmatizing is to further reduce dimensionality, allowing models to analyze and compare text more efficiently\n",
    "\n",
    "An example of lemmatizing:\n",
    "\n",
    "- manage &rarr; manage\n",
    "- manager &rarr; manage\n",
    "- managing &rarr; manage\n",
    "- managed &rarr; manage\n",
    "- manages &rarr; manage\n",
    "\n",
    "Since words can have different roles in sentences, it is important for us to determine their part of speech tag. After determining their tag, the `nltk` library handles lemmatization accurately based on these tags\n",
    "\n",
    "### Example:\n",
    "\n",
    "`swimming` is a good sport **vs** i go `swimming` for fun\n",
    "\n",
    "\n",
    "**First sentence** - \"swimming is a good sport\"\n",
    "- \"swimming\" is used as the subject of the sentence, like a noun\n",
    "\n",
    "**Second sentence** - \"i go swimming for fun\"\n",
    "- \"swimming\" is used as a verb for this sentence"
   ]
  },
  {
   "cell_type": "code",
   "execution_count": 13,
   "metadata": {},
   "outputs": [],
   "source": [
    "#nltk.download('wordnet')\n",
    "#nltk.download('averaged_perceptron_tagger')\n",
    "from nltk import WordNetLemmatizer\n",
    "\n",
    "lemmatizer = WordNetLemmatizer()\n",
    "\n",
    "#converting nltk pos to wordnet pos\n",
    "def wordnet_pos(tag):\n",
    "    #tag is a string of letters, just need the first one to identify correct tag\n",
    "    if tag[0] == 'J':\n",
    "        return wn.ADJ\n",
    "    elif tag[0] == 'V':\n",
    "        return wn.VERB\n",
    "    elif tag[0] == 'N':\n",
    "        return wn.NOUN\n",
    "    elif tag[0] == 'R':\n",
    "        return wn.ADV\n",
    "    else:\n",
    "        #default to noun if nothing found\n",
    "        return wn.NOUN\n",
    "\n",
    "#this function takes a list of words and lemmatizes it\n",
    "def lemmatize_words(text):\n",
    "    #nltk.pos_tag returns a list of ('word', pos_tag)\n",
    "    pos = nltk.pos_tag(text)\n",
    "    lemmatized_words = []\n",
    "    for word, nltk_tag in pos:\n",
    "        #reason to convert is to ensure compatibility with wordnet's lemmatize pos tag\n",
    "        wn_pos = wordnet_pos(nltk_tag)\n",
    "        lemmatized_words.append(lemmatizer.lemmatize(word, pos=wn_pos))\n",
    "    return lemmatized_words"
   ]
  },
  {
   "cell_type": "code",
   "execution_count": 14,
   "metadata": {},
   "outputs": [
    {
     "data": {
      "text/html": [
       "<div>\n",
       "<style scoped>\n",
       "    .dataframe tbody tr th:only-of-type {\n",
       "        vertical-align: middle;\n",
       "    }\n",
       "\n",
       "    .dataframe tbody tr th {\n",
       "        vertical-align: top;\n",
       "    }\n",
       "\n",
       "    .dataframe thead th {\n",
       "        text-align: right;\n",
       "    }\n",
       "</style>\n",
       "<table border=\"1\" class=\"dataframe\">\n",
       "  <thead>\n",
       "    <tr style=\"text-align: right;\">\n",
       "      <th></th>\n",
       "      <th>Score</th>\n",
       "      <th>Text</th>\n",
       "    </tr>\n",
       "  </thead>\n",
       "  <tbody>\n",
       "    <tr>\n",
       "      <th>1</th>\n",
       "      <td>1</td>\n",
       "      <td>[product, arrive, labeled, jumbo, salt, peanut...</td>\n",
       "    </tr>\n",
       "    <tr>\n",
       "      <th>3</th>\n",
       "      <td>2</td>\n",
       "      <td>[look, secret, ingredient, robitussin, believe...</td>\n",
       "    </tr>\n",
       "    <tr>\n",
       "      <th>9</th>\n",
       "      <td>5</td>\n",
       "      <td>[healthy, dog, food, good, digestion, also, go...</td>\n",
       "    </tr>\n",
       "    <tr>\n",
       "      <th>12</th>\n",
       "      <td>1</td>\n",
       "      <td>[cat, happily, eat, felidae, platinum, two, ye...</td>\n",
       "    </tr>\n",
       "    <tr>\n",
       "      <th>13</th>\n",
       "      <td>4</td>\n",
       "      <td>[good, flavor, come, securely, pack, fresh, de...</td>\n",
       "    </tr>\n",
       "  </tbody>\n",
       "</table>\n",
       "</div>"
      ],
      "text/plain": [
       "    Score                                               Text\n",
       "1       1  [product, arrive, labeled, jumbo, salt, peanut...\n",
       "3       2  [look, secret, ingredient, robitussin, believe...\n",
       "9       5  [healthy, dog, food, good, digestion, also, go...\n",
       "12      1  [cat, happily, eat, felidae, platinum, two, ye...\n",
       "13      4  [good, flavor, come, securely, pack, fresh, de..."
      ]
     },
     "execution_count": 14,
     "metadata": {},
     "output_type": "execute_result"
    }
   ],
   "source": [
    "#lemmatizing our vocab with proper POS tags\n",
    "df['Text'] = df['Text'].apply(lambda x: lemmatize_words(x))\n",
    "\n",
    "#printing changes\n",
    "df.head()"
   ]
  },
  {
   "cell_type": "code",
   "execution_count": 15,
   "metadata": {},
   "outputs": [
    {
     "name": "stdout",
     "output_type": "stream",
     "text": [
      "our dependent values: [0, 0, 1, 0, 1]\n"
     ]
    }
   ],
   "source": [
    "#creates a list of scores out of Score column\n",
    "col_score = df['Score'].tolist()\n",
    "\n",
    "#converting to binary positive and negative classification\n",
    "score = []\n",
    "for x in col_score:\n",
    "    if x>= 4:\n",
    "        score.append(1)\n",
    "    else:\n",
    "        score.append(0)\n",
    "\n",
    "print(f\"our dependent values: {score[:5]}\")"
   ]
  },
  {
   "cell_type": "markdown",
   "metadata": {},
   "source": [
    "# TF-IDF (Term Frequency-Inverse Document Frequency)\n",
    "\n",
    "When it comes to sklearn's models, we can only use numerical values for our features. Since we are using words as features, we need a method to convert these words into numerical values that the model can interpret.\n",
    "\n",
    "TF-IDF is a method used to calculate how relevant a word is to a specific document in the context of the entire corpus of text. It combines two formulas:\n",
    "\n",
    "## TF (Term Frequency)\n",
    "\n",
    "TF takes a document or sentence and calculates how often a word appears in the same document or sentence\n",
    "\n",
    "$$\n",
    "\\text{TF}(t, d) = \\frac{\\text{number of times } t \\text{ appears in document } d}{\\text{total number of words in document } d}\n",
    "$$\n",
    "## IDF (Inverse Document Frequency)\n",
    "\n",
    "IDF is an extra method to weigh words in relation to the entire corpus of text we have (all of our reviews)\n",
    "$$\n",
    "\\text{IDF}(t) = \\log(\\frac{\\text{number of documents containing word } t}{\\text{total amount of documents}})\n",
    "$$\n",
    "\n",
    "$$\\text{TF} * \\text{IDF} = \\text{numerical value of a word in relation to the entire dataset}$$\n",
    "\n",
    "After the process is done for the entire corpus of text, we end up with a 2D matrix that assigns different weights to features(words). Common words have lower weights, while important and informative words are highlighted with higher TF-IDF scores."
   ]
  },
  {
   "cell_type": "code",
   "execution_count": 16,
   "metadata": {},
   "outputs": [],
   "source": [
    "#load libraries\n",
    "from sklearn.feature_extraction.text import TfidfVectorizer\n",
    "from sklearn.model_selection import GridSearchCV, train_test_split"
   ]
  },
  {
   "cell_type": "markdown",
   "metadata": {},
   "source": [
    "## TF-IDF Vectorization\n",
    "\n",
    "- **.fit** - Using the formulas above `.fit` method learns the paramters for each word in the training data(features)\n",
    "- **.transform** - The `.transform` method applies the parameters learned from .fit to our data. For TF-IDF, it returns a 2D matrix of numerically represented words\n",
    "\n",
    "### Important notes\n",
    "- It is important to apply .fit **only** on training data. Applying it on test data would result in TF-IDF learning parameters from the test set, leading to biased evaluation\n",
    "- When a word is present in the test data but not in the training data, it is assigned a value of 0 to handle unseen words. This is known as **OOV**(Out of Vocabulary)\n",
    "- Test data must be transformed using `.transform` to emulate real world data evaluation, where models encounter unseen reviews for sentiment analysis\n",
    "\n",
    "### Addressing sparse matrix\n",
    "Since by default, TF-IDF considers each word a feature, it can create a large 2D matrix at the cost of runtime. To deal with runtime issues, `TfidfVectorizer` has a paramter called `max_features` which takes a number as an argument. Based on the number n, we take the n most important features by frequency and construct our matrix from them. When considering a `max_feature` value, there's a loose rule of thumb of N > P:\n",
    "\n",
    "- **N** - The number of documents(reviews) in the dataset\n",
    "- **P** - The number of max feature chosen\n",
    "\n",
    "This way we can ensure that there are enough documents to cover enough important patterns in the vocabulary\n",
    "\n",
    "### ngram_range feature\n",
    "By default, TF-IDF considers each word as a feature(unigrams). Using the ngram_range feature in TfidfVectorizer, we can include multiple words as features (bigrams). This still is used within the limits set by `max_features`.\n"
   ]
  },
  {
   "cell_type": "code",
   "execution_count": 17,
   "metadata": {},
   "outputs": [
    {
     "name": "stdout",
     "output_type": "stream",
     "text": [
      "['healthy', 'dog', 'food', 'good', 'digestion', 'also', 'good', 'small', 'puppy', 'dog', 'eats', 'require', 'amount', 'every', 'feeding']\n",
      "healthy dog food good digestion also good small puppy dog eats require amount every feeding\n"
     ]
    }
   ],
   "source": [
    "#create our vectorizer with specified parameters\n",
    "#min_df = 0.03 -> this means we're ignoring words that appear in less than 1% of the documents\n",
    "#this is taking care of edge cases where words might not be as significant due to rarity AND prevents potential overfitting\n",
    "tf_idf_vectorizer = TfidfVectorizer(max_features=20000, ngram_range=(1,2), min_df=0.01)\n",
    "\n",
    "#out of all 'Text' columns, creates a list that contains lists of tokenized words in form of - list of lists of words\n",
    "col_list = df['Text'].tolist()\n",
    "\n",
    "#print example of our list of list of words first element\n",
    "print(col_list[2])\n",
    "\n",
    "corpus = []\n",
    "#tf-idf needs a list of documents/sentences - for each list in col_list, we join them with a space in between, then append to new list\n",
    "for index in col_list:\n",
    "    corpus.append(' '.join(index))\n",
    "\n",
    "#print the same example of our changes - list of strings\n",
    "print(corpus[2])\n",
    "\n",
    "#perform train test split with stratified sampling\n",
    "X_train, X_test, y_train, y_test = train_test_split(corpus, score, test_size=0.2, stratify=score,random_state=42)\n",
    "\n",
    "#learn the parameters of our training data\n",
    "tf_idf_vectorizer.fit(X_train)\n",
    "\n",
    "#transform both train and test data(based on X_train parameters)\n",
    "tfidf_train = tf_idf_vectorizer.transform(X_train)\n",
    "tfidf_test = tf_idf_vectorizer.transform(X_test)\n"
   ]
  },
  {
   "cell_type": "markdown",
   "metadata": {},
   "source": [
    "## Frequency Visualization\n",
    "For visual context, let's check our term frequency across our entire corpus. This is very similar to WordCloud"
   ]
  },
  {
   "cell_type": "code",
   "execution_count": 18,
   "metadata": {},
   "outputs": [
    {
     "data": {
      "image/png": "[encoded data removed]",
      "text/plain": [
       "<Figure size 800x550 with 1 Axes>"
      ]
     },
     "metadata": {},
     "output_type": "display_data"
    },
    {
     "data": {
      "text/plain": [
       "<Axes: title={'center': 'Frequency Distribution of Top 20 tokens'}>"
      ]
     },
     "execution_count": 18,
     "metadata": {},
     "output_type": "execute_result"
    }
   ],
   "source": [
    "from yellowbrick.text import FreqDistVisualizer\n",
    "\n",
    "#using TfidfVectorizer method from Sklearn to extract features\n",
    "features = tf_idf_vectorizer.get_feature_names_out()\n",
    "#choosing top 20 features\n",
    "visualizer = FreqDistVisualizer(features=features, n=20)\n",
    "visualizer.fit(tfidf_train)\n",
    "visualizer.show()"
   ]
  },
  {
   "cell_type": "markdown",
   "metadata": {},
   "source": [
    "## Using k-fold cross validation\n",
    "To ensure no outliers and we are consistent with the model's performance, we can perfom k-fold cross validation\n",
    "\n",
    "This essentially divides our dataset into k equal parts(stratified), then we get a training set of size k-1 out of the k parts, and the remaining part is for testing.\n",
    "\n",
    "In case of our 5 fold cross validation:\n",
    "- model 1: train- 1,2,3,4  test- 5\n",
    "- model 2: train- 1,2,3,5  test- 4\n",
    "- etc.."
   ]
  },
  {
   "cell_type": "code",
   "execution_count": 19,
   "metadata": {},
   "outputs": [
    {
     "name": "stdout",
     "output_type": "stream",
     "text": [
      "[0.84771657 0.84656664 0.84727014 0.84918679 0.84497015]\n"
     ]
    }
   ],
   "source": [
    "from sklearn.linear_model import LogisticRegression\n",
    "from sklearn.metrics import accuracy_score, precision_score, recall_score, f1_score\n",
    "from sklearn.metrics import confusion_matrix\n",
    "from sklearn.model_selection import cross_val_score\n",
    "\n",
    "#logistic regression model with stochastic gradient descent\n",
    "logistic_regression_model = LogisticRegression(solver='saga')\n",
    "\n",
    "print(cross_val_score(logistic_regression_model,tfidf_train,y_train,cv=5))"
   ]
  },
  {
   "cell_type": "markdown",
   "metadata": {},
   "source": [
    "## Model Creation and Evaluation\n",
    "\n",
    "Now that we know we are consistent with our model creation, let's create a logistic regression model and evaluate it:\n",
    "\n",
    "### Precision\n",
    "- Measures how accurate our model is when predicting positive reviews out of *all* reviews it classified as positive(including negative reviews falsely classified as positive):\n",
    "\n",
    "    $ \\text{Precision} = \\frac{\\text{True Positives}}{\\text{True Positives} + \\text{False Positives}} $\n",
    "\n",
    "\n",
    "### Recall (Sensitivity)\n",
    "\n",
    "- Measures how well our model predicts positive reviews out of *all* the positive reviews present in our dataset\n",
    "\n",
    "    $ \\text{Recall} = \\frac{\\text{True Positives}}{\\text{True Positives} + \\text{False Negatives}} $\n",
    "\n",
    "\n",
    "### F1 Score\n",
    "\n",
    "- Combines both Precision and Recall and checks if they are balanaced. We want a model that has balanced Precision score and Recall score. If one outweighs the other, our F1 score lowers\n",
    "\n",
    "    $ \\text{F1 Score} = 2 \\cdot \\frac{\\text{Precision} \\cdot \\text{Recall}}{\\text{Precision} + \\text{Recall}} $"
   ]
  },
  {
   "cell_type": "code",
   "execution_count": 20,
   "metadata": {},
   "outputs": [
    {
     "name": "stdout",
     "output_type": "stream",
     "text": [
      "accuracy: 0.8471546852411618\n",
      "precision: 0.8471784086926043\n",
      "recall: 0.8471041794444931\n",
      "F1 Score: 0.8471412924424971\n"
     ]
    }
   ],
   "source": [
    "#train the model\n",
    "logistic_regression_model.fit(tfidf_train, y_train)\n",
    "\n",
    "#predict on test data\n",
    "y_pred = logistic_regression_model.predict(tfidf_test)\n",
    "\n",
    "\n",
    "#evaluating our LR model\n",
    "accuracy = accuracy_score(y_test, y_pred)\n",
    "precision = precision_score(y_test, y_pred)\n",
    "recall = recall_score(y_test, y_pred)\n",
    "f1 = f1_score(y_test, y_pred)\n",
    "\n",
    "#print the evaluation\n",
    "print('accuracy:', accuracy)\n",
    "print('precision:', precision)\n",
    "print('recall:', recall)\n",
    "print('F1 Score:', f1)"
   ]
  },
  {
   "cell_type": "markdown",
   "metadata": {},
   "source": [
    "## Confusion matrix\n",
    "When evaluating classification models, percentages alone might not provide a full picture of accuracy. A confusion matrix is then used for showing a detailed evaluation of our model's performance. It helps identify areas where the model performs well and where there might be inconsistencies in classification"
   ]
  },
  {
   "cell_type": "code",
   "execution_count": 21,
   "metadata": {},
   "outputs": [
    {
     "name": "stdout",
     "output_type": "stream",
     "text": [
      "[[9670 1744]\n",
      " [1745 9668]]\n"
     ]
    },
    {
     "data": {
      "image/png": "[encoded data removed]",
      "text/plain": [
       "<Figure size 1000x700 with 2 Axes>"
      ]
     },
     "metadata": {},
     "output_type": "display_data"
    }
   ],
   "source": [
    "#create confusion matrix from data\n",
    "cm = confusion_matrix(y_test, y_pred)\n",
    "\n",
    "print(cm)\n",
    "\n",
    "plt.figure(figsize=(10, 7))\n",
    "sns.heatmap(cm, annot=True, fmt='d', cmap='viridis', xticklabels=logistic_regression_model.classes_, yticklabels=logistic_regression_model.classes_)\n",
    "plt.xlabel('Predicted')\n",
    "plt.ylabel('Actual')\n",
    "plt.title('Confusion Matrix')\n",
    "plt.show()\n"
   ]
  },
  {
   "cell_type": "markdown",
   "metadata": {},
   "source": [
    "## Example of misclassified sentence\n",
    "Let's check an example of misclassified text from our model's prediction\n"
   ]
  },
  {
   "cell_type": "code",
   "execution_count": 22,
   "metadata": {},
   "outputs": [
    {
     "name": "stdout",
     "output_type": "stream",
     "text": [
      "actual label: 0\n",
      "predicted label: 1\n",
      "misclassified text: ['really', 'like', 'chip', 'different', 'texture', 'regular', 'potato', 'chip', 'still', 'find', 'really', 'tasty', 'even', 'boyfriend', 'often', 'averse', 'thing', 'healthy', 'low', 'fat', 'gobble', 'rather', 'quickly', 'variety', 'pack', 'great', 'allow', 'little', 'bit', 'everything', 'course', 'downside', 'may', 'not', 'like', 'flavor', 'much', 'find', 'original', 'version', 'little', 'bland', 'sea', 'salt', 'vinegar', 'flavor', 'might', 'strong', 'people']\n"
     ]
    }
   ],
   "source": [
    "#create our variables to track appropriate misclassifications\n",
    "index = 0\n",
    "misclassified_text = []\n",
    "misclassified_index = []\n",
    "misclassified_actual_labels = []\n",
    "misclassified_predicted_labels = []\n",
    "\n",
    "#zip allows us to iterate over multiple variables:\n",
    "# label = curr iteration of y_test\n",
    "# predict = curr iteration of y_pred\n",
    "for label, predict in zip(y_test, y_pred):\n",
    "    if label != predict: \n",
    "        misclassified_index.append(index)\n",
    "        misclassified_actual_labels.append(label)\n",
    "        misclassified_predicted_labels.append(predict)\n",
    "        #Referenced from - https://stackoverflow.com/questions/31593201/how-are-iloc-and-loc-different/31593712#31593712\n",
    "        misclassified_text.append(df.iloc[index]['Text'])\n",
    "    index +=1\n",
    "\n",
    "#print our results\n",
    "print(\"actual label:\", misclassified_actual_labels[misclassified_index[8]])\n",
    "print(\"predicted label:\", misclassified_predicted_labels[misclassified_index[8]])\n",
    "print(\"misclassified text:\", misclassified_text[misclassified_index[8]])"
   ]
  },
  {
   "cell_type": "markdown",
   "metadata": {},
   "source": [
    "## Ensemble method - VotingClassifier\n",
    "At the cost of training more models(runtime), we can potentially increase our performance by using `VotingClassifier`. This creates an environment in which we have a diverse model combination that is potentially more stable and reliable than a singular model prediction."
   ]
  },
  {
   "cell_type": "code",
   "execution_count": 23,
   "metadata": {},
   "outputs": [],
   "source": [
    "from sklearn.ensemble import RandomForestClassifier\n",
    "#creating a randomforest model\n",
    "rforest = RandomForestClassifier(random_state=42)"
   ]
  },
  {
   "cell_type": "markdown",
   "metadata": {},
   "source": [
    "Starting off with random forest classifier, run a grid search to optimize it"
   ]
  },
  {
   "cell_type": "code",
   "execution_count": 24,
   "metadata": {},
   "outputs": [],
   "source": [
    "# #for grid search\n",
    "# param_grid = { \n",
    "#     'n_estimators': [200, 500],\n",
    "#     'max_features': ['sqrt', 'log2'],\n",
    "#     'max_depth' : [4,5,6,8,10],\n",
    "#     'criterion' :['gini', 'entropy']\n",
    "# }\n",
    "\n",
    "# #perform grid search with 5-fold cross validation\n",
    "# cv_rforest = GridSearchCV(estimator=rforest, param_grid=param_grid, cv= 5)\n",
    "# #print the best params for the model\n",
    "# cv_rforest.best_params_\n",
    "\n",
    "# #result of grid search is(saving runtime)\n",
    "# param_grid = { \n",
    "#     'n_estimators': [500],\n",
    "#     'max_features': ['log2'],\n",
    "#     'max_depth' : [10],\n",
    "#     'criterion' :['entropy']\n",
    "# }"
   ]
  },
  {
   "cell_type": "markdown",
   "metadata": {},
   "source": [
    "Creating ensemble model with voting classifier method from sklearn"
   ]
  },
  {
   "cell_type": "code",
   "execution_count": 25,
   "metadata": {},
   "outputs": [
    {
     "name": "stdout",
     "output_type": "stream",
     "text": [
      "accuracy: 0.8543391597669426\n",
      "precision: 0.8527564549895325\n",
      "recall: 0.8565670726364671\n",
      "F1 Score: 0.8546575162827292\n"
     ]
    }
   ],
   "source": [
    "from sklearn.ensemble import VotingClassifier\n",
    "from sklearn import svm\n",
    "\n",
    "#instantiate support vector classifier\n",
    "svm_clf = svm.SVC()\n",
    "\n",
    "#instantiate best params fit\n",
    "best_param_rf = RandomForestClassifier(n_estimators=10, max_features='log2',max_depth=10,criterion='entropy')\n",
    "\n",
    "#create an ensemble VotingClassifier\n",
    "ensemble_clf= VotingClassifier(estimators= [('lr',logistic_regression_model),('rf',best_param_rf),('svm',svm_clf)], voting ='hard')\n",
    "\n",
    "#.fit the training data\n",
    "ensemble_clf.fit(tfidf_train,y_train)\n",
    "\n",
    "#predict and print accuracy\n",
    "ensemble_y_pred = ensemble_clf.predict(tfidf_test)\n",
    "\n",
    "#evaluating our ensemble model\n",
    "accuracy = accuracy_score(y_test, ensemble_y_pred)\n",
    "precision = precision_score(y_test, ensemble_y_pred)\n",
    "recall = recall_score(y_test, ensemble_y_pred)\n",
    "f1 = f1_score(y_test, ensemble_y_pred)\n",
    "\n",
    "#print the evaluation\n",
    "print('accuracy:', accuracy)\n",
    "print('precision:', precision)\n",
    "print('recall:', recall)\n",
    "print('F1 Score:', f1)"
   ]
  },
  {
   "cell_type": "markdown",
   "metadata": {},
   "source": [
    "Creating a confusion matrix for our ensemble model"
   ]
  },
  {
   "cell_type": "code",
   "execution_count": 26,
   "metadata": {},
   "outputs": [
    {
     "name": "stdout",
     "output_type": "stream",
     "text": [
      "[[9726 1688]\n",
      " [1637 9776]]\n"
     ]
    },
    {
     "data": {
      "image/png": "[encoded data removed]",
      "text/plain": [
       "<Figure size 1000x700 with 2 Axes>"
      ]
     },
     "metadata": {},
     "output_type": "display_data"
    }
   ],
   "source": [
    "cm = confusion_matrix(y_test, ensemble_y_pred)\n",
    "\n",
    "print(cm)\n",
    "\n",
    "plt.figure(figsize=(10, 7))\n",
    "sns.heatmap(cm, annot=True, fmt='d', cmap='viridis', xticklabels=ensemble_clf.classes_, yticklabels=ensemble_clf.classes_)\n",
    "plt.xlabel('Predicted')\n",
    "plt.ylabel('Actual')\n",
    "plt.title('Confusion Matrix')\n",
    "plt.show()"
   ]
  }
 ],
 "metadata": {
  "kernelspec": {
   "display_name": "Python 3",
   "language": "python",
   "name": "python3"
  },
  "language_info": {
   "codemirror_mode": {
    "name": "ipython",
    "version": 3
   },
   "file_extension": ".py",
   "mimetype": "text/x-python",
   "name": "python",
   "nbconvert_exporter": "python",
   "pygments_lexer": "ipython3",
   "version": "3.10.12"
  }
 },
 "nbformat": 4,
 "nbformat_minor": 2
}
